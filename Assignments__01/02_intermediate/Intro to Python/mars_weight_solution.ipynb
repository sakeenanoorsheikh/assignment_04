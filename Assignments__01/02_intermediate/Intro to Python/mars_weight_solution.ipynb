{
  "cells": [
    {
      "cell_type": "code",
      "execution_count": null,
      "metadata": {
        "colab": {
          "base_uri": "https://localhost:8080/"
        },
        "id": "kaE216zUZARJ",
        "outputId": "d9aae677-bd40-48b7-9353-acbed40aedab"
      },
      "outputs": [
        {
          "name": "stdout",
          "output_type": "stream",
          "text": [
            "mars_weight_solution\n",
            "Enter a weight on Earth: 45.78\n",
            "Enter a planet: Mars\n",
            "The equivalent weight on Mars: 17.3\n"
          ]
        }
      ],
      "source": [
        "print(\"mars_weight_solution\")\n",
        "\n",
        "def main():\n",
        "    # Dictionary to store planet gravity factors\n",
        "    planet_gravity = {\n",
        "        \"Mercury\": 0.376,\n",
        "        \"Venus\": 0.889,\n",
        "        \"Mars\": 0.378,\n",
        "        \"Jupiter\": 2.36,\n",
        "        \"Saturn\": 1.081,\n",
        "        \"Uranus\": 0.815,\n",
        "        \"Neptune\": 1.14\n",
        "    }\n",
        "\n",
        "    earth_weight = float(input(\"Enter a weight on Earth: \"))\n",
        "    planet = input(\"Enter a planet: \")\n",
        "\n",
        "    if planet in planet_gravity:\n",
        "        planet_weight = round(earth_weight * planet_gravity[planet], 2)\n",
        "        print(f\"The equivalent weight on {planet}: {planet_weight}\")\n",
        "    else:\n",
        "        print(\"Invalid planet name. Please enter a valid planet from the solar system.\")\n",
        "\n",
        "if __name__ == \"__main__\":\n",
        "  main()"
      ]
    }
  ],
  "metadata": {
    "colab": {
      "provenance": []
    },
    "kernelspec": {
      "display_name": "Python 3",
      "name": "python3"
    },
    "language_info": {
      "name": "python"
    }
  },
  "nbformat": 4,
  "nbformat_minor": 0
}
