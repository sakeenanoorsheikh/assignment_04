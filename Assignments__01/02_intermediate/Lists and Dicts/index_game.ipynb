{
  "nbformat": 4,
  "nbformat_minor": 0,
  "metadata": {
    "colab": {
      "provenance": []
    },
    "kernelspec": {
      "name": "python3",
      "display_name": "Python 3"
    },
    "language_info": {
      "name": "python"
    }
  },
  "cells": [
    {
      "cell_type": "code",
      "execution_count": 1,
      "metadata": {
        "colab": {
          "base_uri": "https://localhost:8080/"
        },
        "id": "MTkHwcH5x9Qh",
        "outputId": "3ba2405b-8f28-463d-e2e0-ced274ee2ba7"
      },
      "outputs": [
        {
          "output_type": "stream",
          "name": "stdout",
          "text": [
            "index_game\n",
            "\n",
            "Operations: 1. Access  2. Modify  3. Slice  4. Exit\n",
            "Choose an operation: 1\n",
            "Enter index: 2\n",
            "Element at index 2: cherry\n",
            "\n",
            "Operations: 1. Access  2. Modify  3. Slice  4. Exit\n",
            "Choose an operation: 2\n",
            "Enter index: 3\n",
            "Enter new value: date\n",
            "Updated list: ['apple', 'banana', 'cherry', 'date', 'elderberry']\n",
            "\n",
            "Operations: 1. Access  2. Modify  3. Slice  4. Exit\n",
            "Choose an operation: 3\n",
            "Enter start index: 2\n",
            "Enter end index: 4\n",
            "Sliced list: ['cherry', 'date']\n",
            "\n",
            "Operations: 1. Access  2. Modify  3. Slice  4. Exit\n",
            "Choose an operation: 2\n",
            "Enter index: 3\n",
            "Enter new value: apple\n",
            "Updated list: ['apple', 'banana', 'cherry', 'apple', 'elderberry']\n",
            "\n",
            "Operations: 1. Access  2. Modify  3. Slice  4. Exit\n",
            "Choose an operation: 4\n",
            "Exiting the game. Goodbye!\n"
          ]
        }
      ],
      "source": [
        "print(\"index_game\")\n",
        "\n",
        "def access_element(my_list, index):\n",
        "    \"\"\"Returns the element at the given index or an error message.\"\"\"\n",
        "    if 0 <= index < len(my_list):\n",
        "        return f\"Element at index {index}: {my_list[index]}\"\n",
        "    return \"Index out of range!\"\n",
        "\n",
        "def modify_element(my_list, index, new_value):\n",
        "    \"\"\"Modifies the element at the given index or returns an error.\"\"\"\n",
        "    if 0 <= index < len(my_list):\n",
        "        my_list[index] = new_value\n",
        "        return f\"Updated list: {my_list}\"\n",
        "    return \"Index out of range!\"\n",
        "\n",
        "def slice_list(my_list, start, end):\n",
        "    \"\"\"Returns a sliced list with proper index handling.\"\"\"\n",
        "    if 0 <= start < len(my_list) and 0 <= end <= len(my_list):\n",
        "        return f\"Sliced list: {my_list[start:end]}\"\n",
        "    return \"Invalid indices!\"\n",
        "\n",
        "def main():\n",
        "    my_list = [\"apple\", \"banana\", \"cherry\", \"date\", \"elderberry\"]\n",
        "\n",
        "    while True:\n",
        "        print(\"\\nOperations: 1. Access  2. Modify  3. Slice  4. Exit\")\n",
        "        choice = input(\"Choose an operation: \")\n",
        "\n",
        "        if choice == \"1\":\n",
        "            index = int(input(\"Enter index: \"))\n",
        "            print(access_element(my_list, index))\n",
        "\n",
        "        elif choice == \"2\":\n",
        "            index = int(input(\"Enter index: \"))\n",
        "            new_value = input(\"Enter new value: \")\n",
        "            print(modify_element(my_list, index, new_value))\n",
        "\n",
        "        elif choice == \"3\":\n",
        "            start = int(input(\"Enter start index: \"))\n",
        "            end = int(input(\"Enter end index: \"))\n",
        "            print(slice_list(my_list, start, end))\n",
        "\n",
        "        elif choice == \"4\":\n",
        "            print(\"Exiting the game. Goodbye!\")\n",
        "            break\n",
        "\n",
        "        else:\n",
        "            print(\"Invalid choice! Please try again.\")\n",
        "\n",
        "if __name__ == \"__main__\":\n",
        "    main()"
      ]
    }
  ]
}