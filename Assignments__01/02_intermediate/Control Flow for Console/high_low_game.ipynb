{
  "cells": [
    {
      "cell_type": "code",
      "execution_count": null,
      "metadata": {
        "colab": {
          "base_uri": "https://localhost:8080/"
        },
        "id": "eDtRYIuXfRfk",
        "outputId": "7f7051b1-fc81-45aa-f4ff-2a5d708fbc87"
      },
      "outputs": [
        {
          "name": "stdout",
          "output_type": "stream",
          "text": [
            "high_low_game\n",
            "Welcome to the High-Low Game!\n",
            "--------------------------------\n",
            "Round 1\n",
            "Your number is 50\n",
            "Do you think your number is higher or lower than the computer's? (higher/lower): higher\n",
            "Aww, that's incorrect. The computer's number was 98\n",
            "Your score is now 0\n",
            "\n",
            "Round 2\n",
            "Your number is 51\n",
            "Do you think your number is higher or lower than the computer's? (higher/lower): higher\n",
            "You were right! The computer's number was 23\n",
            "Your score is now 1\n",
            "\n",
            "Round 3\n",
            "Your number is 88\n",
            "Do you think your number is higher or lower than the computer's? (higher/lower): higher\n",
            "You were right! The computer's number was 59\n",
            "Your score is now 2\n",
            "\n",
            "Round 4\n",
            "Your number is 68\n",
            "Do you think your number is higher or lower than the computer's? (higher/lower): higher\n",
            "Aww, that's incorrect. The computer's number was 71\n",
            "Your score is now 2\n",
            "\n",
            "Round 5\n",
            "Your number is 55\n",
            "Do you think your number is higher or lower than the computer's? (higher/lower): lower\n",
            "Aww, that's incorrect. The computer's number was 30\n",
            "Your score is now 2\n",
            "\n",
            "Thanks for playing!\n",
            "Good job, you played really well!\n"
          ]
        }
      ],
      "source": [
        "print(\"high_low_game\")\n",
        "\n",
        "import random\n",
        "\n",
        "NUM_ROUNDS = 5  # \n",
        "\n",
        "def main():\n",
        "    print(\"Welcome to the High-Low Game!\")\n",
        "    print(\"--------------------------------\")\n",
        "\n",
        "    score = 0  \n",
        "\n",
        "    for round_num in range(1, NUM_ROUNDS + 1):\n",
        "        print(f\"Round {round_num}\")\n",
        "\n",
        "        user_number = random.randint(1, 100)\n",
        "        computer_number = random.randint(1, 100)\n",
        "\n",
        "        print(f\"Your number is {user_number}\")\n",
        "\n",
        "        \n",
        "        while True:\n",
        "            guess = input(\"Do you think your number is higher or lower than the computer's? (higher/lower): \").strip().lower()\n",
        "            if guess in [\"higher\", \"lower\"]:\n",
        "                break\n",
        "            print(\"Invalid input! Please enter either 'higher' or 'lower'.\")\n",
        "\n",
        "        \n",
        "        if (guess == \"higher\" and user_number > computer_number) or (guess == \"lower\" and user_number < computer_number):\n",
        "            print(\"You were right!\", end=\" \")\n",
        "            score += 1\n",
        "        else:\n",
        "            print(\"Aww, that's incorrect.\", end=\" \")\n",
        "\n",
        "        print(f\"The computer's number was {computer_number}\")\n",
        "        print(f\"Your score is now {score}\\n\")\n",
        "\n",
        "    \n",
        "    print(\"Thanks for playing!\")\n",
        "    if score == NUM_ROUNDS:\n",
        "        print(\"Wow! You played perfectly!\")\n",
        "    elif score >= NUM_ROUNDS // 2:\n",
        "        print(\"Good job, you played really well!\")\n",
        "    else:\n",
        "        print(\"Better luck next time!\")\n",
        "\n",
        "if __name__ == '__main__':\n",
        "    main()"
      ]
    }
  ],
  "metadata": {
    "colab": {
      "provenance": []
    },
    "kernelspec": {
      "display_name": "Python 3",
      "name": "python3"
    },
    "language_info": {
      "name": "python"
    }
  },
  "nbformat": 4,
  "nbformat_minor": 0
}
